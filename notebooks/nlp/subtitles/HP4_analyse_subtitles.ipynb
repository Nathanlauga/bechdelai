{
 "cells": [
  {
   "cell_type": "markdown",
   "id": "f14fd171-ac63-4eb9-a997-22fc4fecd176",
   "metadata": {},
   "source": [
    "# Analyse HP 4 subtitles"
   ]
  },
  {
   "cell_type": "code",
   "execution_count": 1,
   "id": "138b6e03-f5e5-4f3b-9d64-fcefee6b4aa3",
   "metadata": {},
   "outputs": [],
   "source": [
    "%load_ext autoreload\n",
    "%autoreload 2"
   ]
  },
  {
   "cell_type": "markdown",
   "id": "76c11b4b-c0f9-46c1-b754-70191de4e834",
   "metadata": {},
   "source": [
    "## Import packages"
   ]
  },
  {
   "cell_type": "code",
   "execution_count": 4,
   "id": "efa9351f-cc21-44ff-b725-f59c5cecd3fc",
   "metadata": {},
   "outputs": [
    {
     "name": "stdout",
     "output_type": "stream",
     "text": [
      "CPU times: total: 0 ns\n",
      "Wall time: 38.9 ms\n"
     ]
    }
   ],
   "source": [
    "%%time\n",
    "import pandas as pd\n",
    "import numpy as np\n",
    "import matplotlib.pyplot as plt\n",
    "import json\n",
    "\n",
    "from bechdelai.processing.process_srt import create_txt_blocks, load_srt\n",
    "from bechdelai.processing.dictionary import extract_person_entities_from_srt\n",
    "from bechdelai.data.tmdb import get_movie_cast_from_id"
   ]
  },
  {
   "cell_type": "code",
   "execution_count": 3,
   "id": "6fcb6a0f-a9e3-40bc-811a-a9c1d4bb5f92",
   "metadata": {},
   "outputs": [],
   "source": [
    "pd.set_option('display.max_rows', 100)"
   ]
  },
  {
   "cell_type": "markdown",
   "id": "c558fdbe-3bdb-4203-bbae-9c1ec2457a72",
   "metadata": {},
   "source": [
    "## Load data"
   ]
  },
  {
   "cell_type": "markdown",
   "id": "86d24971-c6fd-4313-a9f1-b69ce461d8c5",
   "metadata": {},
   "source": [
    "### srt"
   ]
  },
  {
   "cell_type": "code",
   "execution_count": 5,
   "id": "012b48a9-41bf-4b77-8d42-35cb6f1964f4",
   "metadata": {},
   "outputs": [],
   "source": [
    "fpath = \"../../../data/srt/harry_potter_4.srt\""
   ]
  },
  {
   "cell_type": "code",
   "execution_count": 6,
   "id": "6677b2fb-d9d0-418d-be5a-d43f21da6757",
   "metadata": {},
   "outputs": [],
   "source": [
    "srt_list = load_srt(fpath)"
   ]
  },
  {
   "cell_type": "markdown",
   "id": "585ce0a8-430f-4d24-8790-71e1fad9559e",
   "metadata": {},
   "source": [
    "### TMDB"
   ]
  },
  {
   "cell_type": "code",
   "execution_count": 7,
   "id": "59d4091b-87e6-4beb-a2bd-fcb06b4c3d17",
   "metadata": {},
   "outputs": [],
   "source": [
    "tmdb_id = \"674\""
   ]
  },
  {
   "cell_type": "code",
   "execution_count": 23,
   "id": "4f40d8b3-9489-4dc7-9982-650297889eef",
   "metadata": {},
   "outputs": [],
   "source": [
    "cast = get_movie_cast_from_id(tmdb_id)[\"cast\"]"
   ]
  },
  {
   "cell_type": "markdown",
   "id": "fe186322-fcb9-4c2d-a259-e804e05c7b66",
   "metadata": {},
   "source": [
    "## Process srt to blocks"
   ]
  },
  {
   "cell_type": "code",
   "execution_count": 6,
   "id": "8058cb13-037b-4e23-9268-187bc6541590",
   "metadata": {},
   "outputs": [],
   "source": [
    "srt_blocks = create_txt_blocks(srt_list, second_gap=0)"
   ]
  },
  {
   "cell_type": "code",
   "execution_count": 7,
   "id": "f504a1be-4f7e-423d-8a72-d5e8cea07fa3",
   "metadata": {},
   "outputs": [
    {
     "data": {
      "text/plain": [
       "[\"Bloody kids. How fastidious you've become, Wormtail.\",\n",
       " 'As I recall, you once called the nearest gutter pipe home.',\n",
       " 'Could it be that the task of nursing me has become wearisome for you?']"
      ]
     },
     "execution_count": 7,
     "metadata": {},
     "output_type": "execute_result"
    }
   ],
   "source": [
    "srt_blocks[:3]"
   ]
  },
  {
   "cell_type": "markdown",
   "id": "88417a0b-a988-44b8-b863-14bc3c4c6788",
   "metadata": {},
   "source": [
    "## Analyse"
   ]
  },
  {
   "cell_type": "markdown",
   "id": "db8bceb5-fb01-4fb1-9f38-d754548a5cdd",
   "metadata": {},
   "source": [
    "### Load person synonyms dictionary"
   ]
  },
  {
   "cell_type": "code",
   "execution_count": 10,
   "id": "8aa5e601-594c-46a8-810f-050090fb2820",
   "metadata": {},
   "outputs": [],
   "source": [
    "dict_path = \"../../../data/dictionary/syn_person.json\""
   ]
  },
  {
   "cell_type": "code",
   "execution_count": 11,
   "id": "14c32b7f-e56e-4ccc-8ba5-5cf295df0a46",
   "metadata": {},
   "outputs": [],
   "source": [
    "with open(dict_path, \"r\") as f:\n",
    "    person_syn_dict = json.load(f)"
   ]
  },
  {
   "cell_type": "code",
   "execution_count": 12,
   "id": "a542c4b2-b8ef-462b-b327-4f9eb8c5eb4d",
   "metadata": {},
   "outputs": [
    {
     "name": "stdout",
     "output_type": "stream",
     "text": [
      "{'url': 'https://www.dictionary.com/browse/boy', 'def': {'noun': ['a young man who lacks maturity, judgment, etc.', \"a son: Sam's oldest boy is helping him in the business.\", 'Disparaging and Offensive. a term used to refer to or address a man considered by the speaker to be inferior in ethnicity, nationality, or occupational status.']}, 'gender': 'unknown'}\n",
      "\n",
      "{'url': 'https://www.dictionary.com/browse/murderess', 'def': {'noun': ['a woman who commits murder.']}, 'gender': 'woman'}\n"
     ]
    }
   ],
   "source": [
    "# some examples\n",
    "print(person_syn_dict[\"boy\"])\n",
    "print()\n",
    "print(person_syn_dict[\"murderess\"])"
   ]
  },
  {
   "cell_type": "markdown",
   "id": "d34e9260-2777-43a8-a9e6-5f8ec6f2f43c",
   "metadata": {},
   "source": [
    "### Extract entities corresponding to person"
   ]
  },
  {
   "cell_type": "code",
   "execution_count": 18,
   "id": "82f7e308-4929-4faa-8cad-e15e2ed558d1",
   "metadata": {},
   "outputs": [],
   "source": [
    "from bechdelai.processing.analyse_srt import extract_keyword\n"
   ]
  },
  {
   "cell_type": "code",
   "execution_count": 19,
   "id": "a9d36ba2-697a-4aad-974f-420c96316686",
   "metadata": {},
   "outputs": [
    {
     "name": "stdout",
     "output_type": "stream",
     "text": [
      "CPU times: total: 1min 27s\n",
      "Wall time: 11 s\n"
     ]
    }
   ],
   "source": [
    "%%time\n",
    "results = []\n",
    "\n",
    "for srt in srt_list[:20]:\n",
    "    res = extract_person_entities_from_srt(srt, person_syn_dict)\n",
    "        \n",
    "    if res:\n",
    "        res = extract_keyword(srt.text)\n",
    "        results.append(res)"
   ]
  },
  {
   "cell_type": "code",
   "execution_count": 52,
   "id": "c7b27ede-fdc5-42d9-90bd-8e9b97564e45",
   "metadata": {},
   "outputs": [
    {
     "name": "stderr",
     "output_type": "stream",
     "text": [
      "[nltk_data] Downloading package stopwords to\n",
      "[nltk_data]     C:\\Users\\natha\\AppData\\Roaming\\nltk_data...\n",
      "[nltk_data]   Package stopwords is already up-to-date!\n"
     ]
    },
    {
     "data": {
      "text/plain": [
       "True"
      ]
     },
     "execution_count": 52,
     "metadata": {},
     "output_type": "execute_result"
    }
   ],
   "source": [
    "import nltk\n",
    "nltk.download('stopwords')"
   ]
  },
  {
   "cell_type": "code",
   "execution_count": 58,
   "id": "fe9aa072-5997-4238-8e6d-9b07bd908ad5",
   "metadata": {},
   "outputs": [],
   "source": [
    "# stopwords.words('english')"
   ]
  },
  {
   "cell_type": "code",
   "execution_count": 53,
   "id": "f2189633-a3bc-4ffb-83d1-abdc2445c622",
   "metadata": {},
   "outputs": [
    {
     "ename": "LookupError",
     "evalue": "\n**********************************************************************\n  Resource \u001b[93mpunkt\u001b[0m not found.\n  Please use the NLTK Downloader to obtain the resource:\n\n  \u001b[31m>>> import nltk\n  >>> nltk.download('punkt')\n  \u001b[0m\n  For more information see: https://www.nltk.org/data.html\n\n  Attempted to load \u001b[93mtokenizers/punkt/english.pickle\u001b[0m\n\n  Searched in:\n    - 'C:\\\\Users\\\\natha/nltk_data'\n    - 'C:\\\\Users\\\\natha\\\\apps\\\\miniforge3\\\\envs\\\\neuralcoref\\\\nltk_data'\n    - 'C:\\\\Users\\\\natha\\\\apps\\\\miniforge3\\\\envs\\\\neuralcoref\\\\share\\\\nltk_data'\n    - 'C:\\\\Users\\\\natha\\\\apps\\\\miniforge3\\\\envs\\\\neuralcoref\\\\lib\\\\nltk_data'\n    - 'C:\\\\Users\\\\natha\\\\AppData\\\\Roaming\\\\nltk_data'\n    - 'C:\\\\nltk_data'\n    - 'D:\\\\nltk_data'\n    - 'E:\\\\nltk_data'\n    - ''\n**********************************************************************\n",
     "output_type": "error",
     "traceback": [
      "\u001b[1;31m---------------------------------------------------------------------------\u001b[0m",
      "\u001b[1;31mLookupError\u001b[0m                               Traceback (most recent call last)",
      "Input \u001b[1;32mIn [53]\u001b[0m, in \u001b[0;36m<cell line: 6>\u001b[1;34m()\u001b[0m\n\u001b[0;32m      3\u001b[0m \u001b[38;5;28;01mfrom\u001b[39;00m \u001b[38;5;21;01mnltk\u001b[39;00m\u001b[38;5;21;01m.\u001b[39;00m\u001b[38;5;21;01mtokenize\u001b[39;00m \u001b[38;5;28;01mimport\u001b[39;00m word_tokenize\n\u001b[0;32m      5\u001b[0m text \u001b[38;5;241m=\u001b[39m \u001b[38;5;124m\"\u001b[39m\u001b[38;5;124mNick likes to play football, however he is not too fond of tennis.\u001b[39m\u001b[38;5;124m\"\u001b[39m\n\u001b[1;32m----> 6\u001b[0m text_tokens \u001b[38;5;241m=\u001b[39m \u001b[43mword_tokenize\u001b[49m\u001b[43m(\u001b[49m\u001b[43mtext\u001b[49m\u001b[43m)\u001b[49m\n\u001b[0;32m      8\u001b[0m tokens_without_sw \u001b[38;5;241m=\u001b[39m [word \u001b[38;5;28;01mfor\u001b[39;00m word \u001b[38;5;129;01min\u001b[39;00m text_tokens \u001b[38;5;28;01mif\u001b[39;00m \u001b[38;5;129;01mnot\u001b[39;00m word \u001b[38;5;129;01min\u001b[39;00m stopwords\u001b[38;5;241m.\u001b[39mwords()]\n",
      "File \u001b[1;32m~\\apps\\miniforge3\\envs\\neuralcoref\\lib\\site-packages\\nltk\\tokenize\\__init__.py:129\u001b[0m, in \u001b[0;36mword_tokenize\u001b[1;34m(text, language, preserve_line)\u001b[0m\n\u001b[0;32m    114\u001b[0m \u001b[38;5;28;01mdef\u001b[39;00m \u001b[38;5;21mword_tokenize\u001b[39m(text, language\u001b[38;5;241m=\u001b[39m\u001b[38;5;124m\"\u001b[39m\u001b[38;5;124menglish\u001b[39m\u001b[38;5;124m\"\u001b[39m, preserve_line\u001b[38;5;241m=\u001b[39m\u001b[38;5;28;01mFalse\u001b[39;00m):\n\u001b[0;32m    115\u001b[0m     \u001b[38;5;124;03m\"\"\"\u001b[39;00m\n\u001b[0;32m    116\u001b[0m \u001b[38;5;124;03m    Return a tokenized copy of *text*,\u001b[39;00m\n\u001b[0;32m    117\u001b[0m \u001b[38;5;124;03m    using NLTK's recommended word tokenizer\u001b[39;00m\n\u001b[1;32m   (...)\u001b[0m\n\u001b[0;32m    127\u001b[0m \u001b[38;5;124;03m    :type preserve_line: bool\u001b[39;00m\n\u001b[0;32m    128\u001b[0m \u001b[38;5;124;03m    \"\"\"\u001b[39;00m\n\u001b[1;32m--> 129\u001b[0m     sentences \u001b[38;5;241m=\u001b[39m [text] \u001b[38;5;28;01mif\u001b[39;00m preserve_line \u001b[38;5;28;01melse\u001b[39;00m \u001b[43msent_tokenize\u001b[49m\u001b[43m(\u001b[49m\u001b[43mtext\u001b[49m\u001b[43m,\u001b[49m\u001b[43m \u001b[49m\u001b[43mlanguage\u001b[49m\u001b[43m)\u001b[49m\n\u001b[0;32m    130\u001b[0m     \u001b[38;5;28;01mreturn\u001b[39;00m [\n\u001b[0;32m    131\u001b[0m         token \u001b[38;5;28;01mfor\u001b[39;00m sent \u001b[38;5;129;01min\u001b[39;00m sentences \u001b[38;5;28;01mfor\u001b[39;00m token \u001b[38;5;129;01min\u001b[39;00m _treebank_word_tokenizer\u001b[38;5;241m.\u001b[39mtokenize(sent)\n\u001b[0;32m    132\u001b[0m     ]\n",
      "File \u001b[1;32m~\\apps\\miniforge3\\envs\\neuralcoref\\lib\\site-packages\\nltk\\tokenize\\__init__.py:106\u001b[0m, in \u001b[0;36msent_tokenize\u001b[1;34m(text, language)\u001b[0m\n\u001b[0;32m     96\u001b[0m \u001b[38;5;28;01mdef\u001b[39;00m \u001b[38;5;21msent_tokenize\u001b[39m(text, language\u001b[38;5;241m=\u001b[39m\u001b[38;5;124m\"\u001b[39m\u001b[38;5;124menglish\u001b[39m\u001b[38;5;124m\"\u001b[39m):\n\u001b[0;32m     97\u001b[0m     \u001b[38;5;124;03m\"\"\"\u001b[39;00m\n\u001b[0;32m     98\u001b[0m \u001b[38;5;124;03m    Return a sentence-tokenized copy of *text*,\u001b[39;00m\n\u001b[0;32m     99\u001b[0m \u001b[38;5;124;03m    using NLTK's recommended sentence tokenizer\u001b[39;00m\n\u001b[1;32m   (...)\u001b[0m\n\u001b[0;32m    104\u001b[0m \u001b[38;5;124;03m    :param language: the model name in the Punkt corpus\u001b[39;00m\n\u001b[0;32m    105\u001b[0m \u001b[38;5;124;03m    \"\"\"\u001b[39;00m\n\u001b[1;32m--> 106\u001b[0m     tokenizer \u001b[38;5;241m=\u001b[39m \u001b[43mload\u001b[49m\u001b[43m(\u001b[49m\u001b[38;5;124;43mf\u001b[39;49m\u001b[38;5;124;43m\"\u001b[39;49m\u001b[38;5;124;43mtokenizers/punkt/\u001b[39;49m\u001b[38;5;132;43;01m{\u001b[39;49;00m\u001b[43mlanguage\u001b[49m\u001b[38;5;132;43;01m}\u001b[39;49;00m\u001b[38;5;124;43m.pickle\u001b[39;49m\u001b[38;5;124;43m\"\u001b[39;49m\u001b[43m)\u001b[49m\n\u001b[0;32m    107\u001b[0m     \u001b[38;5;28;01mreturn\u001b[39;00m tokenizer\u001b[38;5;241m.\u001b[39mtokenize(text)\n",
      "File \u001b[1;32m~\\apps\\miniforge3\\envs\\neuralcoref\\lib\\site-packages\\nltk\\data.py:750\u001b[0m, in \u001b[0;36mload\u001b[1;34m(resource_url, format, cache, verbose, logic_parser, fstruct_reader, encoding)\u001b[0m\n\u001b[0;32m    747\u001b[0m     \u001b[38;5;28mprint\u001b[39m(\u001b[38;5;124mf\u001b[39m\u001b[38;5;124m\"\u001b[39m\u001b[38;5;124m<<Loading \u001b[39m\u001b[38;5;132;01m{\u001b[39;00mresource_url\u001b[38;5;132;01m}\u001b[39;00m\u001b[38;5;124m>>\u001b[39m\u001b[38;5;124m\"\u001b[39m)\n\u001b[0;32m    749\u001b[0m \u001b[38;5;66;03m# Load the resource.\u001b[39;00m\n\u001b[1;32m--> 750\u001b[0m opened_resource \u001b[38;5;241m=\u001b[39m \u001b[43m_open\u001b[49m\u001b[43m(\u001b[49m\u001b[43mresource_url\u001b[49m\u001b[43m)\u001b[49m\n\u001b[0;32m    752\u001b[0m \u001b[38;5;28;01mif\u001b[39;00m \u001b[38;5;28mformat\u001b[39m \u001b[38;5;241m==\u001b[39m \u001b[38;5;124m\"\u001b[39m\u001b[38;5;124mraw\u001b[39m\u001b[38;5;124m\"\u001b[39m:\n\u001b[0;32m    753\u001b[0m     resource_val \u001b[38;5;241m=\u001b[39m opened_resource\u001b[38;5;241m.\u001b[39mread()\n",
      "File \u001b[1;32m~\\apps\\miniforge3\\envs\\neuralcoref\\lib\\site-packages\\nltk\\data.py:876\u001b[0m, in \u001b[0;36m_open\u001b[1;34m(resource_url)\u001b[0m\n\u001b[0;32m    873\u001b[0m protocol, path_ \u001b[38;5;241m=\u001b[39m split_resource_url(resource_url)\n\u001b[0;32m    875\u001b[0m \u001b[38;5;28;01mif\u001b[39;00m protocol \u001b[38;5;129;01mis\u001b[39;00m \u001b[38;5;28;01mNone\u001b[39;00m \u001b[38;5;129;01mor\u001b[39;00m protocol\u001b[38;5;241m.\u001b[39mlower() \u001b[38;5;241m==\u001b[39m \u001b[38;5;124m\"\u001b[39m\u001b[38;5;124mnltk\u001b[39m\u001b[38;5;124m\"\u001b[39m:\n\u001b[1;32m--> 876\u001b[0m     \u001b[38;5;28;01mreturn\u001b[39;00m \u001b[43mfind\u001b[49m\u001b[43m(\u001b[49m\u001b[43mpath_\u001b[49m\u001b[43m,\u001b[49m\u001b[43m \u001b[49m\u001b[43mpath\u001b[49m\u001b[43m \u001b[49m\u001b[38;5;241;43m+\u001b[39;49m\u001b[43m \u001b[49m\u001b[43m[\u001b[49m\u001b[38;5;124;43m\"\u001b[39;49m\u001b[38;5;124;43m\"\u001b[39;49m\u001b[43m]\u001b[49m\u001b[43m)\u001b[49m\u001b[38;5;241m.\u001b[39mopen()\n\u001b[0;32m    877\u001b[0m \u001b[38;5;28;01melif\u001b[39;00m protocol\u001b[38;5;241m.\u001b[39mlower() \u001b[38;5;241m==\u001b[39m \u001b[38;5;124m\"\u001b[39m\u001b[38;5;124mfile\u001b[39m\u001b[38;5;124m\"\u001b[39m:\n\u001b[0;32m    878\u001b[0m     \u001b[38;5;66;03m# urllib might not use mode='rb', so handle this one ourselves:\u001b[39;00m\n\u001b[0;32m    879\u001b[0m     \u001b[38;5;28;01mreturn\u001b[39;00m find(path_, [\u001b[38;5;124m\"\u001b[39m\u001b[38;5;124m\"\u001b[39m])\u001b[38;5;241m.\u001b[39mopen()\n",
      "File \u001b[1;32m~\\apps\\miniforge3\\envs\\neuralcoref\\lib\\site-packages\\nltk\\data.py:583\u001b[0m, in \u001b[0;36mfind\u001b[1;34m(resource_name, paths)\u001b[0m\n\u001b[0;32m    581\u001b[0m sep \u001b[38;5;241m=\u001b[39m \u001b[38;5;124m\"\u001b[39m\u001b[38;5;124m*\u001b[39m\u001b[38;5;124m\"\u001b[39m \u001b[38;5;241m*\u001b[39m \u001b[38;5;241m70\u001b[39m\n\u001b[0;32m    582\u001b[0m resource_not_found \u001b[38;5;241m=\u001b[39m \u001b[38;5;124mf\u001b[39m\u001b[38;5;124m\"\u001b[39m\u001b[38;5;130;01m\\n\u001b[39;00m\u001b[38;5;132;01m{\u001b[39;00msep\u001b[38;5;132;01m}\u001b[39;00m\u001b[38;5;130;01m\\n\u001b[39;00m\u001b[38;5;132;01m{\u001b[39;00mmsg\u001b[38;5;132;01m}\u001b[39;00m\u001b[38;5;130;01m\\n\u001b[39;00m\u001b[38;5;132;01m{\u001b[39;00msep\u001b[38;5;132;01m}\u001b[39;00m\u001b[38;5;130;01m\\n\u001b[39;00m\u001b[38;5;124m\"\u001b[39m\n\u001b[1;32m--> 583\u001b[0m \u001b[38;5;28;01mraise\u001b[39;00m \u001b[38;5;167;01mLookupError\u001b[39;00m(resource_not_found)\n",
      "\u001b[1;31mLookupError\u001b[0m: \n**********************************************************************\n  Resource \u001b[93mpunkt\u001b[0m not found.\n  Please use the NLTK Downloader to obtain the resource:\n\n  \u001b[31m>>> import nltk\n  >>> nltk.download('punkt')\n  \u001b[0m\n  For more information see: https://www.nltk.org/data.html\n\n  Attempted to load \u001b[93mtokenizers/punkt/english.pickle\u001b[0m\n\n  Searched in:\n    - 'C:\\\\Users\\\\natha/nltk_data'\n    - 'C:\\\\Users\\\\natha\\\\apps\\\\miniforge3\\\\envs\\\\neuralcoref\\\\nltk_data'\n    - 'C:\\\\Users\\\\natha\\\\apps\\\\miniforge3\\\\envs\\\\neuralcoref\\\\share\\\\nltk_data'\n    - 'C:\\\\Users\\\\natha\\\\apps\\\\miniforge3\\\\envs\\\\neuralcoref\\\\lib\\\\nltk_data'\n    - 'C:\\\\Users\\\\natha\\\\AppData\\\\Roaming\\\\nltk_data'\n    - 'C:\\\\nltk_data'\n    - 'D:\\\\nltk_data'\n    - 'E:\\\\nltk_data'\n    - ''\n**********************************************************************\n"
     ]
    }
   ],
   "source": [
    "from nltk.corpus import stopwords\n",
    "\n",
    "from nltk.tokenize import word_tokenize\n",
    "\n",
    "text = \"Nick likes to play football, however he is not too fond of tennis.\"\n",
    "text_tokens = word_tokenize(text)\n",
    "\n",
    "tokens_without_sw = [word for word in text_tokens if not word in stopwords.words()]"
   ]
  },
  {
   "cell_type": "code",
   "execution_count": 47,
   "id": "329bc612-76b5-4a36-ad96-164eedfc39c3",
   "metadata": {},
   "outputs": [
    {
     "data": {
      "text/plain": [
       "{'adult': False,\n",
       " 'gender': 2,\n",
       " 'id': 5469,\n",
       " 'known_for_department': 'Acting',\n",
       " 'name': 'Ralph Fiennes',\n",
       " 'original_name': 'Ralph Fiennes',\n",
       " 'popularity': 36.721,\n",
       " 'profile_path': '/tJr9GcmGNHhLVVEH3i7QYbj6hBi.jpg',\n",
       " 'cast_id': 4,\n",
       " 'character': 'Lord Voldemort',\n",
       " 'credit_id': '52fe4268c3a36847f801c229',\n",
       " 'order': 4}"
      ]
     },
     "execution_count": 47,
     "metadata": {},
     "output_type": "execute_result"
    }
   ],
   "source": [
    "from rapidfuzz.distance import Levenshtein\n",
    "from itertools import permutations\n",
    "import itertools\n",
    "\n",
    "MIN_DIST_MATCH_CHARACTER = 2\n",
    "\n",
    "def compute_dist_on_each_words(s1, s2):\n",
    "    s1 = s1.split()\n",
    "    s2 = s2.split()\n",
    "    \n",
    "    res = []\n",
    "    for w1, w2 in itertools.product(s1, s2):\n",
    "        res.append(Levenshtein.distance(w1, w2))\n",
    "        \n",
    "    return min(res)\n",
    "    \n",
    "\n",
    "def match_entity_with_cast(txt, cast):\n",
    "    # remove stopwords from cast\n",
    "    # TODO\n",
    "    \n",
    "    for c in cast:\n",
    "        res = compute_dist_on_each_words(txt, c[\"character\"])\n",
    "        \n",
    "        if res <= MIN_DIST_MATCH_CHARACTER:\n",
    "            return c\n",
    "        \n",
    "    return None\n",
    "        \n",
    "    \n",
    "match_entity_with_cast(results[2][0][0], cast)\n",
    "    "
   ]
  },
  {
   "cell_type": "code",
   "execution_count": 48,
   "id": "8a5b0bc2-4b8c-4650-a2ab-71121ea36944",
   "metadata": {},
   "outputs": [
    {
     "data": {
      "text/plain": [
       "[('my Lord Voldemort', 8, 11, 'PROPN')]"
      ]
     },
     "execution_count": 48,
     "metadata": {},
     "output_type": "execute_result"
    }
   ],
   "source": [
    "results[2]"
   ]
  },
  {
   "cell_type": "code",
   "execution_count": 16,
   "id": "398faa2b-2f7e-4385-a55f-9df58a87f365",
   "metadata": {},
   "outputs": [
    {
     "data": {
      "text/plain": [
       "'Harry !'"
      ]
     },
     "execution_count": 16,
     "metadata": {},
     "output_type": "execute_result"
    }
   ],
   "source": [
    "ent_"
   ]
  },
  {
   "cell_type": "code",
   "execution_count": 14,
   "id": "30a2ff97-395a-4880-9a44-ab77eadea9c8",
   "metadata": {},
   "outputs": [
    {
     "name": "stdout",
     "output_type": "stream",
     "text": [
      "===== from 155s to 158s =====\n",
      "Find following entities:\n",
      "\t- Wormtail (detected gender `UNKNOWN`)\n",
      "\t- Wormtail (detected gender `UNKNOWN`)\n",
      "\n",
      "===== from 163s to 168s =====\n",
      "Find following entities:\n",
      "\t- it (detected gender `UNKNOWN`)\n",
      "\n",
      "===== from 168s to 171s =====\n",
      "Find following entities:\n",
      "\t- my Lord Voldemort (detected gender `UNKNOWN`)\n",
      "\n",
      "===== from 172s to 175s =====\n",
      "Find following entities:\n",
      "\t- we (detected gender `UNKNOWN`)\n",
      "\t- it  (detected gender `UNKNOWN`)\n",
      "\t- the boy (detected gender `UNKNOWN`)\n",
      "\n",
      "===== from 175s to 178s =====\n",
      "Find following entities:\n",
      "\t- The boy (detected gender `UNKNOWN`)\n",
      "\t- everything (detected gender `UNKNOWN`)\n",
      "\n",
      "===== from 178s to 182s =====\n",
      "Find following entities:\n",
      "\t- It (detected gender `UNKNOWN`)\n",
      "\t- him (detected gender `MAN`)\n",
      "\t- it (detected gender `UNKNOWN`)\n",
      "\n",
      "===== from 185s to 189s =====\n",
      "Find following entities:\n",
      "\t- Good (detected gender `UNKNOWN`)\n",
      "\n",
      "===== from 189s to 192s =====\n",
      "Find following entities:\n",
      "\t- our old comrades (detected gender `UNKNOWN`)\n",
      "\n",
      "===== from 192s to 194s =====\n",
      "Find following entities:\n",
      "\t- them (detected gender `UNKNOWN`)\n",
      "\n",
      "===== from 206s to 209s =====\n",
      "Find following entities:\n",
      "\t- Nagini (detected gender `UNKNOWN`)\n",
      "\t- the old Muggle caretaker (detected gender `UNKNOWN`)\n",
      "\n",
      "===== from 213s to 219s =====\n",
      "Find following entities:\n",
      "\t- Wormtail,  (detected gender `UNKNOWN`)\n",
      "\t- our guest (detected gender `UNKNOWN`)\n",
      "\n",
      "===== from 219s to 221s =====\n",
      "Find following entities:\n",
      "\t- Avada Kedavra (detected gender `UNKNOWN`)\n",
      "\n",
      "===== from 226s to 227s =====\n",
      "Find following entities:\n",
      "\t- Harry (detected gender `UNKNOWN`)\n",
      "\n",
      "===== from 228s to 230s =====\n",
      "Find following entities:\n",
      "\t- Harry ! (detected gender `UNKNOWN`)\n",
      "\n",
      "===== from 233s to 236s =====\n",
      "Find following entities:\n",
      "\t- Hermione (detected gender `UNKNOWN`)\n",
      "\n",
      "===== from 239s to 241s =====\n",
      "Find following entities:\n",
      "\t- Last night (detected gender `UNKNOWN`)\n",
      "\n",
      "===== from 241s to 243s =====\n",
      "Find following entities:\n",
      "\t- Ronald ! (detected gender `UNKNOWN`)\n",
      "\n",
      "===== from 249s to 252s =====\n",
      "Find following entities:\n",
      "\t- Ron ! (detected gender `UNKNOWN`)\n",
      "\n",
      "===== from 259s to 262s =====\n",
      "Find following entities:\n",
      "\t- - Ron, where are we actually going?  (detected gender `UNKNOWN`)\n",
      "\n",
      "===== from 262s to 265s =====\n",
      "Find following entities:\n",
      "\t- Dad (detected gender `UNKNOWN`)\n",
      "\t- we (detected gender `UNKNOWN`)\n",
      "\n",
      "===== from 270s to 271s =====\n",
      "Find following entities:\n",
      "\t- Arthur ! (detected gender `UNKNOWN`)\n",
      "\n",
      "===== from 272s to 274s =====\n",
      "Find following entities:\n",
      "\t- It (detected gender `UNKNOWN`)\n",
      "\n",
      "===== from 274s to 278s =====\n",
      "Find following entities:\n",
      "\t- Amos (detected gender `UNKNOWN`)\n",
      "\t- us  (detected gender `UNKNOWN`)\n",
      "\n",
      "===== from 278s to 284s =====\n",
      "Find following entities:\n",
      "\t- Amos Diggory, everyone (detected gender `UNKNOWN`)\n",
      "\t- me (detected gender `UNKNOWN`)\n",
      "\t- the Ministry (detected gender `UNKNOWN`)\n",
      "\n",
      "===== from 284s to 287s =====\n",
      "Find following entities:\n",
      "\t- Cedric (detected gender `UNKNOWN`)\n",
      "\t- young lad  (detected gender `MAN`)\n",
      "\t- Cedric (detected gender `UNKNOWN`)\n",
      "\n",
      "===== from 292s to 295s =====\n",
      "Find following entities:\n",
      "\t- Harry Potter (detected gender `UNKNOWN`)\n",
      "\t- Harry Potter (detected gender `UNKNOWN`)\n",
      "\n",
      "===== from 295s to 298s =====\n",
      "Find following entities:\n",
      "\t- - Great, great pleasure (detected gender `UNKNOWN`)\n",
      "\n",
      "===== from 302s to 305s =====\n",
      "Find following entities:\n",
      "\t- it (detected gender `UNKNOWN`)\n",
      "\n",
      "===== from 307s to 309s =====\n",
      "Find following entities:\n",
      "\t- we (detected gender `UNKNOWN`)\n",
      "\n",
      "===== from 309s to 310s =====\n",
      "Find following entities:\n",
      "\t- We (detected gender `UNKNOWN`)\n",
      "\n",
      "===== from 311s to 315s =====\n",
      "Find following entities:\n",
      "\t- yourself (detected gender `UNKNOWN`)\n",
      "\n",
      "===== from 316s to 318s =====\n",
      "Find following entities:\n",
      "\t- they all (detected gender `UNKNOWN`)\n",
      "\t- that manky old boot (detected gender `UNKNOWN`)\n",
      "\n",
      "===== from 318s to 321s =====\n",
      "Find following entities:\n",
      "\t- just any manky old boot (detected gender `UNKNOWN`)\n",
      "\t- It (detected gender `UNKNOWN`)\n",
      "\t- a Portkey (detected gender `UNKNOWN`)\n",
      "\n",
      "===== from 323s to 324s =====\n",
      "Find following entities:\n",
      "\t- a Portkey (detected gender `UNKNOWN`)\n",
      "\n",
      "===== from 324s to 328s =====\n",
      "Find following entities:\n",
      "\t- Harry ! (detected gender `UNKNOWN`)\n",
      "\n"
     ]
    }
   ],
   "source": [
    "for res in results:\n",
    "    print(f\"===== from {res['start_sec']}s to {res['end_sec']}s =====\")\n",
    "    print(\"Find following entities:\")\n",
    "    for ent in res[\"entities\"]:\n",
    "        ent_ = ent['entity'].replace('\\n', ' ')\n",
    "        print(f\"\\t- {ent_} (detected gender `{ent['gender'].upper()}`)\")\n",
    "    print()"
   ]
  },
  {
   "cell_type": "markdown",
   "id": "31194072-fce2-492c-979b-81d5c6825506",
   "metadata": {},
   "source": [
    "The end."
   ]
  }
 ],
 "metadata": {
  "kernelspec": {
   "display_name": "neuralcoref",
   "language": "python",
   "name": "neuralcoref"
  },
  "language_info": {
   "codemirror_mode": {
    "name": "ipython",
    "version": 3
   },
   "file_extension": ".py",
   "mimetype": "text/x-python",
   "name": "python",
   "nbconvert_exporter": "python",
   "pygments_lexer": "ipython3",
   "version": "3.8.13"
  }
 },
 "nbformat": 4,
 "nbformat_minor": 5
}
